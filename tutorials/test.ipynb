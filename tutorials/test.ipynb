{
 "cells": [
  {
   "cell_type": "code",
   "execution_count": 18,
   "outputs": [],
   "source": [
    "import os\n",
    "import pandas as pd\n",
    "import numpy as np\n",
    "import glob\n",
    "from tests import get_test_data_path\n",
    "from pathlib import Path"
   ],
   "metadata": {
    "collapsed": false,
    "pycharm": {
     "name": "#%%\n"
    }
   }
  },
  {
   "cell_type": "code",
   "execution_count": 3,
   "outputs": [],
   "source": [
    "\n",
    "DATA_PATH = os.path.join(get_test_data_path(), \"vispeech\")\n",
    "df = pd.read_csv(os.path.join(DATA_PATH, \"metadata.csv\"))\n"
   ],
   "metadata": {
    "collapsed": false,
    "pycharm": {
     "name": "#%%\n"
    }
   }
  },
  {
   "cell_type": "code",
   "execution_count": 44,
   "outputs": [
    {
     "data": {
      "text/plain": "14934"
     },
     "execution_count": 44,
     "metadata": {},
     "output_type": "execute_result"
    }
   ],
   "source": [
    "len(df)"
   ],
   "metadata": {
    "collapsed": false,
    "pycharm": {
     "name": "#%%\n"
    }
   }
  },
  {
   "cell_type": "code",
   "execution_count": 51,
   "outputs": [
    {
     "name": "stdout",
     "output_type": "stream",
     "text": [
      "['1/13854|hlv thu minh kỳ vọng gì khi tùng anh bước vào vòng này']\n"
     ]
    }
   ],
   "source": [
    "a = df.iloc[0].values\n",
    "print(a)"
   ],
   "metadata": {
    "collapsed": false,
    "pycharm": {
     "name": "#%%\n"
    }
   }
  },
  {
   "cell_type": "code",
   "execution_count": 4,
   "outputs": [
    {
     "data": {
      "text/plain": "'/home/truc/Documents/ViTTS/tests/data/vispeech'"
     },
     "execution_count": 4,
     "metadata": {},
     "output_type": "execute_result"
    }
   ],
   "source": [
    "DATA_PATH"
   ],
   "metadata": {
    "collapsed": false,
    "pycharm": {
     "name": "#%%\n"
    }
   }
  },
  {
   "cell_type": "code",
   "execution_count": 33,
   "outputs": [],
   "source": [
    "file_wav = glob.glob(os.path.join(DATA_PATH, \"**\", \"*.wav\", ), recursive=True)"
   ],
   "metadata": {
    "collapsed": false,
    "pycharm": {
     "name": "#%%\n"
    }
   }
  },
  {
   "cell_type": "code",
   "execution_count": 42,
   "outputs": [
    {
     "name": "stdout",
     "output_type": "stream",
     "text": [
      "14910\n",
      "14934\n",
      "14920\n",
      "14932\n",
      "14922\n",
      "14909\n",
      "14928\n",
      "14926\n",
      "14923\n",
      "14929\n",
      "14906\n",
      "14917\n",
      "14930\n",
      "14907\n",
      "14931\n",
      "14908\n",
      "14916\n",
      "14925\n",
      "14933\n",
      "14921\n",
      "14914\n",
      "14913\n",
      "14915\n",
      "14924\n",
      "14912\n",
      "14927\n",
      "14918\n",
      "14919\n",
      "14911\n",
      "09995\n",
      "09998\n",
      "09990\n",
      "09983\n",
      "09982\n",
      "09992\n",
      "09991\n",
      "09985\n",
      "09999\n",
      "09996\n",
      "09981\n",
      "09988\n",
      "09993\n",
      "09989\n",
      "09994\n",
      "09986\n",
      "09987\n",
      "09984\n",
      "09997\n"
     ]
    }
   ],
   "source": [
    "for f in file_wav:\n",
    "    print(Path(f).stem)"
   ],
   "metadata": {
    "collapsed": false,
    "pycharm": {
     "name": "#%%\n"
    }
   }
  },
  {
   "cell_type": "code",
   "execution_count": 56,
   "outputs": [],
   "source": [
    "df_new = pd.DataFrame()\n",
    "arr = []\n",
    "for i in range(len(df)):\n",
    "    _line = df.iloc[i].values\n",
    "    line = _line[0]\n",
    "    cols = line.split(\"|\")\n",
    "    tmp_cols = cols[0].split(\"/\")[1]\n",
    "    for f in file_wav:\n",
    "        if tmp_cols == Path(f).stem:\n",
    "            arr.append(line)\n",
    "\n"
   ],
   "metadata": {
    "collapsed": false,
    "pycharm": {
     "name": "#%%\n"
    }
   }
  },
  {
   "cell_type": "code",
   "execution_count": 62,
   "outputs": [],
   "source": [
    "df_new = df_new.append(arr,ignore_index= True)"
   ],
   "metadata": {
    "collapsed": false,
    "pycharm": {
     "name": "#%%\n"
    }
   }
  },
  {
   "cell_type": "code",
   "execution_count": 63,
   "outputs": [],
   "source": [
    "df_new.to_csv(os.path.join(get_test_data_path(), \"vispeech\", \"metadata_dummy.csv\"))"
   ],
   "metadata": {
    "collapsed": false,
    "pycharm": {
     "name": "#%%\n"
    }
   }
  }
 ],
 "metadata": {
  "kernelspec": {
   "display_name": "Python 3",
   "language": "python",
   "name": "python3"
  },
  "language_info": {
   "codemirror_mode": {
    "name": "ipython",
    "version": 2
   },
   "file_extension": ".py",
   "mimetype": "text/x-python",
   "name": "python",
   "nbconvert_exporter": "python",
   "pygments_lexer": "ipython2",
   "version": "2.7.6"
  }
 },
 "nbformat": 4,
 "nbformat_minor": 0
}